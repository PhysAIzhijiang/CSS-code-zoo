{
 "cells": [
  {
   "cell_type": "markdown",
   "id": "24d97837-c1c8-4b6e-9077-c55d23527932",
   "metadata": {},
   "source": [
    "# Database: CSS Code Zoo\n",
    "A list of CSS Codes with $[n,k,d]$ parameters, $5\\leq n \\leq 30$\n",
    "## Introduction"
   ]
  },
  {
   "cell_type": "markdown",
   "id": "d3c7169c-2039-4677-bc0a-84cd96dfd868",
   "metadata": {},
   "source": [
    "## Table run2"
   ]
  },
  {
   "cell_type": "markdown",
   "id": "be8a1b4d-73cd-423b-a5f7-a94246f5996a",
   "metadata": {},
   "source": [
    "```\n",
    "n=0:\t[   1  2  3  4  5  6  7  8  9     1  2  3  4  5  6  7  8  9     1  2  3  4  5  6  7]\n",
    "n=1:\t[                                                                                  ]\n",
    "n=2:\t[                                                                                  ]\n",
    "n=3:\t[                                                                                  ]\n",
    "n=4:\t[                                                                                  ]\n",
    "n=5:\t[   2  2                                                                           ]\n",
    "n=6:\t[   2  2  2                                                                        ]\n",
    "n=7:\t[   3  2  2  2                                                                     ]\n",
    "n=8:\t[   3  2  2  2                                                                     ]\n",
    "n=9:\t[   3  2  2  2  2                                                                  ]\n",
    "n=10:\t[   3  3  2  2  2  2  1                                                            ]\n",
    "n=11:\t[   3  3  3  2  2  2  2  1                                                         ]\n",
    "n=12:\t[   3  3  2  3  2  2  2  2                                                         ]\n",
    "n=13:\t[   3  3  3  2  2  2  2  2  2                                                      ]\n",
    "n=14:\t[   3  3  3  2  2  2  2  2  2  2                                                   ]\n",
    "n=15:\t[   4  3  3  3  3  2  2  2  2  2  2                                                ]\n",
    "n=16:\t[   4  3  3  3  3  2  2  2  2  2  2  2                                             ]\n",
    "n=17:\t[   4  3  3  3  3  3  2  2  2  2  2  2  2                                          ]\n",
    "n=18:\t[   4  4  3  3  3  3  2  2  2  2  2  2  2  2                                       ]\n",
    "n=19:\t[   4  4  4  3  3  3  2  2  2  2  2  2  2  2  2                                    ]\n",
    "n=20:\t[   4  4  3  3  3  3  3  2  2  2  2  2  2  2  2  1                                 ]\n",
    "n=21:\t[   4  4  4  3  3  3  3  3  2  2  2  2  2  2  2  2  1                              ]\n",
    "n=22:\t[   4  4  4  3  3  3  3  3  2  2  2  2  2  2  2  2  2  1                           ]\n",
    "n=23:\t[   4  4  4  4  3  3  3  3  3  2  2  2  2  2  2  2  2  2  1                        ]\n",
    "n=24:\t[   5  4  4  4  3  3  3  3  3  3  2  2  2  2  2  2  2  2  2  1                     ]\n",
    "n=25:\t[   5  4  4  4  3  3  3  3  3  3  2  3  2  2  2  2  2  2  2  2  1                  ]\n",
    "n=26:\t[   5  4  4  4  4  3  3  3  3  3  3  2  2  2  2  2  2  2  2  2  2  1               ]\n",
    "n=27:\t[   5  5  4  4  4  4  3  3  3  3  3  3  3  2  2  2  2  2  2  2  2  2  1            ]\n",
    "n=28:\t[   5  5  4  4  4  4  3  4  3  3  3  3  3  2  2  2  2  2  2  2  2  2  1  1         ]\n",
    "n=29:\t[   5  5  4  4  4  4  4  3  3  3  3  3  3  3  2  2  2  2  2  2  2  2  2  1  1      ]\n",
    "n=30:\t[   5  5  5  4  4  4  4  4  3  4  3  3  3  3  2  2  2  2  2  2  2  2  2  2  1  1   ]\n",
    "```"
   ]
  },
  {
   "cell_type": "markdown",
   "id": "dc3b748f-38d8-4ff5-93fa-c50c8bc5f454",
   "metadata": {},
   "source": [
    "## Table run1"
   ]
  },
  {
   "cell_type": "markdown",
   "id": "c9db4f70-84b1-46e4-b9ba-4ce4ef632347",
   "metadata": {},
   "source": [
    "```\n",
    "run1 as of Dec 15\n",
    "n=1:\t[0, 0, 0, 0, 0, 0, 0, 0, 0, 0, 0, 0, 0, 0, 0, 0, 0, 0, 0, 0, 0, 0, 0, 0, 0]\n",
    "n=2:\t[0, 0, 0, 0, 0, 0, 0, 0, 0, 0, 0, 0, 0, 0, 0, 0, 0, 0, 0, 0, 0, 0, 0, 0, 0]\n",
    "n=3:\t[0, 0, 0, 0, 0, 0, 0, 0, 0, 0, 0, 0, 0, 0, 0, 0, 0, 0, 0, 0, 0, 0, 0, 0, 0]\n",
    "n=4:\t[0, 0, 0, 0, 0, 0, 0, 0, 0, 0, 0, 0, 0, 0, 0, 0, 0, 0, 0, 0, 0, 0, 0, 0, 0]\n",
    "n=5:\t[0, 2, 2, 0, 0, 0, 0, 0, 0, 0, 0, 0, 0, 0, 0, 0, 0, 0, 0, 0, 0, 0, 0, 0, 0]\n",
    "n=6:\t[0, 2, 2, 2, 0, 0, 0, 0, 0, 0, 0, 0, 0, 0, 0, 0, 0, 0, 0, 0, 0, 0, 0, 0, 0]\n",
    "n=7:\t[0, 3, 2, 2, 2, 0, 0, 0, 0, 0, 0, 0, 0, 0, 0, 0, 0, 0, 0, 0, 0, 0, 0, 0, 0]\n",
    "n=8:\t[0, 3, 2, 2, 2, 2, 0, 0, 0, 0, 0, 0, 0, 0, 0, 0, 0, 0, 0, 0, 0, 0, 0, 0, 0]\n",
    "n=9:\t[0, 3, 2, 2, 2, 2, 2, 0, 0, 0, 0, 0, 0, 0, 0, 0, 0, 0, 0, 0, 0, 0, 0, 0, 0]\n",
    "n=10:\t[0, 3, 2, 2, 2, 2, 2, 2, 0, 0, 0, 0, 0, 0, 0, 0, 0, 0, 0, 0, 0, 0, 0, 0, 0]\n",
    "n=11:\t[0, 3, 3, 2, 2, 2, 2, 2, 1, 0, 0, 0, 0, 0, 0, 0, 0, 0, 0, 0, 0, 0, 0, 0, 0]\n",
    "n=12:\t[0, 3, 3, 3, 2, 2, 2, 2, 2, 1, 0, 0, 0, 0, 0, 0, 0, 0, 0, 0, 0, 0, 0, 0, 0]\n",
    "n=13:\t[0, 3, 3, 3, 2, 2, 2, 2, 2, 2, 1, 0, 0, 0, 0, 0, 0, 0, 0, 0, 0, 0, 0, 0, 0]\n",
    "n=14:\t[0, 3, 3, 3, 3, 2, 2, 2, 2, 2, 2, 1, 0, 0, 0, 0, 0, 0, 0, 0, 0, 0, 0, 0, 0]\n",
    "n=15:\t[0, 4, 3, 3, 3, 3, 2, 2, 2, 2, 2, 2, 0, 0, 0, 0, 0, 0, 0, 0, 0, 0, 0, 0, 0]\n",
    "n=16:\t[0, 4, 3, 3, 3, 3, 2, 2, 2, 2, 2, 2, 2, 0, 0, 0, 0, 0, 0, 0, 0, 0, 0, 0, 0]\n",
    "n=17:\t[0, 4, 4, 3, 3, 3, 3, 3, 2, 2, 2, 2, 2, 2, 0, 0, 0, 0, 0, 0, 0, 0, 0, 0, 0]\n",
    "n=18:\t[0, 4, 4, 3, 3, 3, 3, 3, 2, 2, 2, 2, 2, 2, 2, 1, 0, 0, 0, 0, 0, 0, 0, 0, 0]\n",
    "n=19:\t[0, 4, 4, 3, 3, 3, 3, 3, 2, 2, 2, 2, 2, 2, 2, 2, 0, 0, 0, 0, 0, 0, 0, 0, 0]\n",
    "n=20:\t[0, 4, 4, 4, 3, 3, 3, 3, 3, 2, 2, 2, 2, 2, 2, 2, 2, 0, 0, 0, 0, 0, 0, 0, 0]\n",
    "n=21:\t[0, 4, 4, 4, 4, 3, 3, 3, 3, 3, 2, 2, 2, 2, 2, 2, 2, 2, 0, 0, 0, 0, 0, 0, 0]\n",
    "n=22:\t[0, 4, 4, 4, 4, 4, 3, 3, 3, 3, 3, 2, 2, 2, 2, 2, 2, 2, 2, 0, 0, 0, 0, 0, 0]\n",
    "n=23:\t[0, 5, 4, 4, 4, 4, 4, 3, 3, 3, 3, 3, 2, 2, 2, 2, 2, 2, 2, 2, 0, 0, 0, 0, 0]\n",
    "n=24:\t[0, 5, 4, 4, 4, 4, 3, 3, 3, 3, 3, 3, 3, 2, 2, 2, 2, 2, 2, 2, 2, 0, 0, 0, 0]\n",
    "n=25:\t[0, 5, 4, 4, 4, 4, 4, 3, 3, 3, 3, 3, 3, 2, 2, 2, 2, 2, 2, 2, 2, 2, 0, 0, 0]\n",
    "n=26:\t[0, 5, 5, 4, 4, 4, 4, 4, 4, 3, 3, 3, 3, 3, 2, 2, 2, 2, 2, 2, 2, 2, 2, 0, 0]\n",
    "n=27:\t[0, 5, 5, 4, 4, 4, 4, 4, 4, 3, 3, 3, 3, 3, 3, 2, 2, 2, 2, 2, 2, 2, 2, 1, 0]\n",
    "n=28:\t[0, 5, 5, 5, 4, 4, 4, 4, 4, 3, 3, 3, 3, 3, 3, 2, 2, 2, 2, 2, 2, 2, 2, 2, 1]\n",
    "n=29:\t[0, 5, 5, 5, 5, 4, 4, 4, 4, 4, 3, 3, 3, 3, 3, 3, 2, 2, 2, 2, 0, 0, 0, 0, 0]\n",
    "n=30:\t[0, 6, 5, 5, 5, 4, 4, 4, 4, 4, 3, 3, 3, 3, 3, 3, 3, 2, 2, 2, 2, 0, 0, 0, 0]\n",
    "```"
   ]
  },
  {
   "cell_type": "markdown",
   "id": "f53a5ffd-5a71-4862-87b3-a49f0583ab19",
   "metadata": {},
   "source": [
    "## sample entry\n",
    "There are three files for each entry E\n",
    "- E.json\n",
    "  - save parameters\n",
    "- EGx.mm\n",
    "  - X type parity-check matrix\n",
    "- EGz.mm\n",
    "  - Z type parity-check matrix"
   ]
  },
  {
   "cell_type": "raw",
   "id": "6351b6a8-02db-4e82-ae83-853cd15806b4",
   "metadata": {},
   "source": [
    "file: ../data/CSS-Codes/run1/n11k2d3-x4z5dx3dz3-2.json\n",
    "{'Gx_row': 4,\n",
    " 'Gz_row': 5,\n",
    " 'd': 3,\n",
    " 'dx': 3,\n",
    " 'dz': 3,\n",
    " 'filename_Gx': '../data/CSS-Codes/run1/n11k2d3-x4z5dx3dz3-2Gx.mm',\n",
    " 'filename_Gz': '../data/CSS-Codes/run1/n11k2d3-x4z5dx3dz3-2Gz.mm',\n",
    " 'index': 2,\n",
    " 'k': 2,\n",
    " 'n': 11}"
   ]
  },
  {
   "cell_type": "raw",
   "id": "d47bf877-7aa1-48f4-8f0b-0cd17e8365a7",
   "metadata": {},
   "source": [
    "explanation:\n",
    "{'Gx_row': row rank of Gx,\n",
    " 'Gz_row': row rank of Gz,\n",
    " 'd': distance d=min(dx,dz),\n",
    " 'dx': x distance,\n",
    " 'dz': z distance,\n",
    " 'filename_Gx': filename of Gx,\n",
    " 'filename_Gz': filename of Gz,\n",
    " 'index': among 0-9, 10 instance for each parameter set\n",
    " 'k': logical qubits,\n",
    " 'n': physical qubits}"
   ]
  },
  {
   "cell_type": "raw",
   "id": "367a04a3-8bd9-4d3e-81d0-2621b08e9c96",
   "metadata": {},
   "source": [
    "file: ../data/CSS-Codes/run1/n11k2d3-x4z5dx3dz3-2Gx.mm\n",
    "%%MatrixMarket matrix coordinate integer general\n",
    "5 11 34\n",
    "1 1 1\n",
    "1 2 1\n",
    "1 3 1\n",
    "1 4 1\n",
    "1 7 1\n",
    "1 9 1\n",
    "1 11 1\n",
    "2 3 1\n",
    "2 5 1\n",
    "2 6 1\n",
    "2 9 1\n",
    "2 10 1\n",
    "2 11 1\n",
    "3 1 1\n",
    "3 2 1\n",
    "3 5 1\n",
    "3 6 1\n",
    "3 8 1\n",
    "3 9 1\n",
    "3 10 1\n",
    "3 11 1\n",
    "4 1 1\n",
    "4 2 1\n",
    "4 3 1\n",
    "4 4 1\n",
    "4 6 1\n",
    "4 9 1\n",
    "5 1 1\n",
    "5 3 1\n",
    "5 4 1\n",
    "5 6 1\n",
    "5 7 1\n",
    "5 10 1\n",
    "5 11 1"
   ]
  },
  {
   "cell_type": "raw",
   "id": "6286fbf5-556e-44c9-9b49-58a24589fad3",
   "metadata": {},
   "source": [
    "matrix market format\n",
    "`row col value`"
   ]
  },
  {
   "cell_type": "raw",
   "id": "e758d410-f994-4637-8420-aa1ff37b1ade",
   "metadata": {},
   "source": [
    "file: ../data/CSS-Codes/run1/n11k2d3-x4z5dx3dz3-2Gz.mm\n",
    "%%MatrixMarket matrix coordinate integer general\n",
    "5 11 34\n",
    "1 1 1\n",
    "1 2 1\n",
    "1 3 1\n",
    "1 4 1\n",
    "1 7 1\n",
    "1 9 1\n",
    "1 11 1\n",
    "2 3 1\n",
    "2 5 1\n",
    "2 6 1\n",
    "2 9 1\n",
    "2 10 1\n",
    "2 11 1\n",
    "3 1 1\n",
    "3 2 1\n",
    "3 5 1\n",
    "3 6 1\n",
    "3 8 1\n",
    "3 9 1\n",
    "3 10 1\n",
    "3 11 1\n",
    "4 1 1\n",
    "4 2 1\n",
    "4 3 1\n",
    "4 4 1\n",
    "4 6 1\n",
    "4 9 1\n",
    "5 1 1\n",
    "5 3 1\n",
    "5 4 1\n",
    "5 6 1\n",
    "5 7 1\n",
    "5 10 1\n",
    "5 11 1"
   ]
  },
  {
   "cell_type": "markdown",
   "id": "3a2f3d59-c8a7-43cd-a39a-f337526c1f49",
   "metadata": {},
   "source": [
    "## How to find the code\n",
    "just follow the filename convention \n",
    "`n11k2d3-x4z5dx3dz3-2Gz.mm`,\n",
    "where the last number is an index among 0-9"
   ]
  },
  {
   "cell_type": "markdown",
   "id": "e7e35ec5-5436-4bb1-b452-30e3418dae09",
   "metadata": {},
   "source": [
    "## Table run2"
   ]
  },
  {
   "cell_type": "code",
   "execution_count": null,
   "id": "e2889e39-653e-494c-87c0-5b3de5e9db24",
   "metadata": {},
   "outputs": [],
   "source": []
  }
 ],
 "metadata": {
  "kernelspec": {
   "display_name": "Python 3 (ipykernel)",
   "language": "python",
   "name": "python3"
  },
  "language_info": {
   "codemirror_mode": {
    "name": "ipython",
    "version": 3
   },
   "file_extension": ".py",
   "mimetype": "text/x-python",
   "name": "python",
   "nbconvert_exporter": "python",
   "pygments_lexer": "ipython3",
   "version": "3.10.6"
  }
 },
 "nbformat": 4,
 "nbformat_minor": 5
}
